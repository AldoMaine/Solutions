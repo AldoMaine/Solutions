{
 "cells": [
  {
   "cell_type": "markdown",
   "metadata": {
    "collapsed": true
   },
   "source": [
    "# Practical Bin Packing \n",
    "This was motivated by a desire to buy just enough materials to get the job done.   In this case the job was a chicken coop I was building.  I can buy lumber in standard lengths of 12, 10, 8 or 6 feet at my local building supply store.   So what is the lowest cost combination of stock boards that fills the need?\n",
    "\n",
    "In my research I found lots of examples of bin packing with a single size of bin but nothing that fit my situation and limited appetite for in depth study. \n",
    "This code uses a brute force approach to the problem.  It enumerates all permutations, discards any that don't meet the bare minimum length then checks each remaining permutation for feasilbility.  The feasible options are sorted to find the minmum cost option.   \n",
    "\n",
    "In the example below, I first define the **stock** lengths and their **rates**.  Then I list the **parts** needed for the project.  The part lengths are listed as integers but could just as well have been floats. "
   ]
  },
  {
   "cell_type": "code",
   "execution_count": 11,
   "metadata": {
    "collapsed": true
   },
   "outputs": [],
   "source": [
    "import itertools as it\n",
    "import numpy as np\n",
    "import pandas as pd\n",
    "import matplotlib.pyplot as plt\n",
    "\n",
    "stock = np.array([144, 120, 96])  # 12', 10' and 8' lengths\n",
    "rates = np.array([9.17, 8.51, 7.52 ])  # costs for each length (1x4)\n",
    "parts = [84, 72, 54, 36, 30, 30, 24, 24]   #  list of pieces needed (1x4)\n",
    "minlength = sum(parts)"
   ]
  },
  {
   "cell_type": "markdown",
   "metadata": {},
   "source": [
    "Then I use a method from Python's itertools module to generate the cartesian product (permuations with repitition). The input to the itertools.product function includes a list of choices for each item.   Depending on the size of your problem you might need to extend the list to find the optimal solution.    "
   ]
  },
  {
   "cell_type": "code",
   "execution_count": 12,
   "metadata": {},
   "outputs": [
    {
     "name": "stdout",
     "output_type": "stream",
     "text": [
      "[[0, 0, 4], [0, 4, 1], [1, 0, 3], [1, 3, 3]]\n"
     ]
    }
   ],
   "source": [
    "combos = it.product([0,1,2,3,4,5,6], repeat=len(stock)) \n",
    "candidates = []\n",
    "cost = [] \n",
    "valid = [] \n",
    "\n",
    "# Discard combos that dont have the minimum length required\n",
    "for item in combos:\n",
    "    x = list(item)\n",
    "    length = np.dot(x,stock)\n",
    "    if length >= minlength:\n",
    "        candidates.append(x)\n",
    "        cost.append(np.dot(x,rates))\n",
    "        valid.append(False)\n",
    "\n",
    "print [candidates[i] for i in [0, 20, 40, 60]]"
   ]
  },
  {
   "cell_type": "markdown",
   "metadata": {},
   "source": [
    "I've printed a few samples of candidates that meet the minimum length criteria.  I could also have thrown out candidates that have way too much length since they aren't likely to be cost effective.  Each candidate is a list of quantities corresponding to stock sizes.  For the example, if a candidiate equals [0, 0, 4], it has no 12' lengths, no 10' lengths and four 8' lengths. \n",
    "\n",
    "The code uses a method called bestFit that tries to fit the parts into a set of bins with sizes c.  For each piece, it tries to find the first bin with enough room to accomodate the piece.  This is called a \"first fit\" algorithm.  If room for any piece in the set of parts(weight) cannot be found it returns valid = false.  "
   ]
  },
  {
   "cell_type": "code",
   "execution_count": 13,
   "metadata": {
    "collapsed": true
   },
   "outputs": [],
   "source": [
    "def bestFit(weight, combo, c):\n",
    "    '''\n",
    "    combo = combination of stock sizes to try\n",
    "    weight: items to be placed into the bins (or cut from stock)\n",
    "    c: bin (stock) sizes, list\n",
    "    \n",
    "    returns \n",
    "    placed: boolean indicating sucessful placement\n",
    "    bin_rem: a list of unused space in each bin\n",
    "    bin_Usage: a list of lists that shows how the items were allocated to bins\n",
    "    \n",
    "    '''\n",
    "    bins = []\n",
    "    \n",
    "    for i in range(len(combo)):\n",
    "        for k in range(combo[i]):\n",
    "            bins.append(c[i])\n",
    "        \n",
    "    n = len(bins)   # number of bins\n",
    "    m = len(weight)\n",
    "\n",
    "    binUsage = [[]*i for i in range(n)] # to record how items are allocated to bins\n",
    "    for b in range(n):\n",
    "        binUsage[b] = [bins[b]]\n",
    "        \n",
    "    bin_rem = bins[:]  # list to store remaining space in bins  \n",
    " \n",
    "    # Place items one by one\n",
    "    for ii in range(m): # for each piece/item/weight\n",
    "        placed = False\n",
    "        # Find the first bin that can accommodate weight[ii]\n",
    "        for j in range(n): # for each bin\n",
    "            if bin_rem[j] >= weight[ii]:\n",
    "                bin_rem[j] -= weight[ii]\n",
    "                binUsage[j].append(weight[ii])\n",
    "                placed = True\n",
    "                break\n",
    "                        \n",
    "        if not placed:\n",
    "            return False, bin_rem, []\n",
    "        \n",
    "    return True, bin_rem, binUsage "
   ]
  },
  {
   "cell_type": "markdown",
   "metadata": {},
   "source": [
    "Then I iterate through each of the remaining candidates using the bestFit method. I merge all the lists into a pandas DataFrame and use a pandas function to find the lowest cost valid option. "
   ]
  },
  {
   "cell_type": "code",
   "execution_count": 14,
   "metadata": {},
   "outputs": [
    {
     "name": "stdout",
     "output_type": "stream",
     "text": [
      "Lowest Cost Option\n",
      "Size Qty\n",
      " 144  2\n",
      "  96  1\n",
      "Cost: $25.86\n"
     ]
    }
   ],
   "source": [
    "usage = []\n",
    "for i in range(len(candidates)):\n",
    "    #try to fit parts into each set of bins\n",
    "    usage.append([])\n",
    "    valid[i], bin_rem, usage[i] = bestFit(parts, candidates[i], stock)\n",
    "\n",
    "results = pd.DataFrame({'candidate':candidates, 'cost':cost, 'valid':valid, 'usage':usage}) \n",
    "lowest_cost_idx = results[results.valid == True].cost.idxmin()\n",
    "\n",
    "lowest_cost = results.iloc[lowest_cost_idx] \n",
    "\n",
    "\n",
    "c = lowest_cost.candidate\n",
    "print 'Lowest Cost Option\\nSize Qty'\n",
    "for i in range(len(c)):\n",
    "    if c[i]:\n",
    "        print('{:4d}  {}'.format(stock[i], c[i]))\n",
    "        \n",
    "print('Cost: ${}'.format(lowest_cost.cost))"
   ]
  },
  {
   "cell_type": "markdown",
   "metadata": {},
   "source": [
    "So the lowest cost option is two 12' pieces and one 8' piece. How should I cut the pieces from the stock?"
   ]
  },
  {
   "cell_type": "code",
   "execution_count": 15,
   "metadata": {},
   "outputs": [
    {
     "name": "stdout",
     "output_type": "stream",
     "text": [
      "Stock Size  Allocation\n",
      "       144  [84, 54]\n",
      "       144  [72, 36, 30]\n",
      "        96  [30, 24, 24]\n"
     ]
    }
   ],
   "source": [
    "print('Stock Size  Allocation')\n",
    "for i in range(len(lowest_cost.usage[:])):\n",
    "    print('{:10d}  {}'.format(lowest_cost.usage[i][0], lowest_cost.usage[i][1:]))"
   ]
  },
  {
   "cell_type": "markdown",
   "metadata": {},
   "source": [
    "It may be useful to compare the costs of the top options.  In this case for just one more dollar, I can buy three 12' pieces of stock and have some left over for the next project. "
   ]
  },
  {
   "cell_type": "code",
   "execution_count": 16,
   "metadata": {},
   "outputs": [
    {
     "data": {
      "image/png": "[encoded data removed]",
      "text/plain": [
       "<matplotlib.figure.Figure at 0xaf41a20>"
      ]
     },
     "metadata": {},
     "output_type": "display_data"
    }
   ],
   "source": [
    "results[results.valid != False].sort_values('cost').head(10).plot(x='candidate', y='cost', kind='bar')\n",
    "plt.ylabel('Cost $')\n",
    "plt.tight_layout()\n",
    "plt.show()"
   ]
  },
  {
   "cell_type": "code",
   "execution_count": null,
   "metadata": {
    "collapsed": true
   },
   "outputs": [],
   "source": []
  }
 ],
 "metadata": {
  "kernelspec": {
   "display_name": "Python 2",
   "language": "python",
   "name": "python2"
  },
  "language_info": {
   "codemirror_mode": {
    "name": "ipython",
    "version": 2
   },
   "file_extension": ".py",
   "mimetype": "text/x-python",
   "name": "python",
   "nbconvert_exporter": "python",
   "pygments_lexer": "ipython2",
   "version": "2.7.13"
  }
 },
 "nbformat": 4,
 "nbformat_minor": 2
}
